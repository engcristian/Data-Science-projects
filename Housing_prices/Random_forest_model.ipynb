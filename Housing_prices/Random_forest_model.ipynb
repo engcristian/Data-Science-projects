{
 "metadata": {
  "language_info": {
   "codemirror_mode": {
    "name": "ipython",
    "version": 3
   },
   "file_extension": ".py",
   "mimetype": "text/x-python",
   "name": "python",
   "nbconvert_exporter": "python",
   "pygments_lexer": "ipython3",
   "version": "3.9.1-final"
  },
  "orig_nbformat": 2,
  "kernelspec": {
   "name": "python3",
   "display_name": "Python 3.9.1 64-bit",
   "metadata": {
    "interpreter": {
     "hash": "63fd5069d213b44bf678585dea6b12cceca9941eaf7f819626cde1f2670de90d"
    }
   }
  }
 },
 "nbformat": 4,
 "nbformat_minor": 2,
 "cells": [
  {
   "source": [
    "import pandas as pd \n",
    "import numpy as np \n",
    "house_file = 'Housing_prices.csv'\n",
    "house_data = pd.read_csv(house_file)"
   ],
   "cell_type": "code",
   "metadata": {},
   "execution_count": 47,
   "outputs": []
  },
  {
   "source": [
    "for columns in house_data:\n",
    "    if house_data[columns].isnull().sum() >1000:\n",
    "        house_data = house_data.drop(columns, axis = 1)"
   ],
   "cell_type": "code",
   "metadata": {},
   "execution_count": 48,
   "outputs": []
  },
  {
   "cell_type": "code",
   "execution_count": 49,
   "metadata": {},
   "outputs": [],
   "source": [
    "house_data.fillna(0, inplace= True)"
   ]
  },
  {
   "cell_type": "code",
   "execution_count": 50,
   "metadata": {},
   "outputs": [],
   "source": [
    "y = house_data.SalePrice.astype(np.float32, copy= False)\n",
    "features = ['LotFrontage', 'LotArea', 'MoSold','YrSold']\n",
    "X = house_data[features].astype(np.float32, copy = False)"
   ]
  },
  {
   "source": [
    "from sklearn.tree import DecisionTreeRegressor\n",
    "from sklearn.model_selection import train_test_split\n",
    "from sklearn.metrics import mean_absolute_error "
   ],
   "cell_type": "code",
   "metadata": {},
   "execution_count": 51,
   "outputs": []
  },
  {
   "cell_type": "code",
   "execution_count": 52,
   "metadata": {},
   "outputs": [],
   "source": [
    "train_X, val_X, train_y, val_y = train_test_split(X,y, random_state=1)"
   ]
  },
  {
   "cell_type": "code",
   "execution_count": 53,
   "metadata": {},
   "outputs": [],
   "source": [
    "def get_mae(max_leaf_nodes, train_X, val_X, train_y, val_y):\n",
    "    model = DecisionTreeRegressor(max_leaf_nodes=max_leaf_nodes, random_state=0)\n",
    "    model.fit(train_X, train_y)\n",
    "    predict_val = model.predict(val_X)\n",
    "    mae = mean_absolute_error(val_y, predict_val)\n",
    "    return (mae)"
   ]
  },
  {
   "source": [
    "possible_max_leaf_nodes = [5,25,50,100,250,500]\n",
    "for max_leaf_nodes in possible_max_leaf_nodes:\n",
    "    my_mae = get_mae(max_leaf_nodes, train_X, val_X, train_y, val_y)\n",
    "    print(max_leaf_nodes, my_mae)"
   ],
   "cell_type": "code",
   "metadata": {},
   "execution_count": 54,
   "outputs": [
    {
     "output_type": "stream",
     "name": "stdout",
     "text": [
      "5 51475.11845672607\n25 50632.628548172936\n50 51577.69772125109\n100 54860.18111548307\n250 60531.033244187274\n500 62620.446878370654\n"
     ]
    }
   ]
  },
  {
   "cell_type": "code",
   "execution_count": 55,
   "metadata": {},
   "outputs": [
    {
     "output_type": "stream",
     "name": "stdout",
     "text": [
      "5\n"
     ]
    }
   ],
   "source": [
    "score = {leaf_size: get_mae(max_leaf_nodes, train_X, val_X, train_y, val_y) for leaf_size in possible_max_leaf_nodes}\n",
    "best_size_nodes = min(score, key= score.get)\n",
    "print(best_size_nodes)"
   ]
  },
  {
   "cell_type": "code",
   "execution_count": 56,
   "metadata": {},
   "outputs": [
    {
     "output_type": "execute_result",
     "data": {
      "text/plain": [
       "DecisionTreeRegressor(max_leaf_nodes=5, random_state=0)"
      ]
     },
     "metadata": {},
     "execution_count": 56
    }
   ],
   "source": [
    "house_final_model = DecisionTreeRegressor(max_leaf_nodes= best_size_nodes, random_state = 0)\n",
    "house_final_model.fit(X, y)\n"
   ]
  },
  {
   "source": [
    "#using the best_size_node in all data\n",
    "predictions_final = house_final_model.predict(X)\n",
    "val_mae = mean_absolute_error(y, predictions_final)"
   ],
   "cell_type": "code",
   "metadata": {},
   "execution_count": 57,
   "outputs": []
  },
  {
   "cell_type": "code",
   "execution_count": 58,
   "metadata": {},
   "outputs": [],
   "source": [
    "from sklearn.ensemble import RandomForestRegressor\n",
    "forest_model = RandomForestRegressor(random_state = 1)\n",
    "forest_model.fit(train_X, train_y)\n",
    "forest_predict = forest_model.predict(val_X)\n",
    "forest_mae = mean_absolute_error(val_y, forest_predict)"
   ]
  },
  {
   "cell_type": "code",
   "execution_count": 59,
   "metadata": {},
   "outputs": [],
   "source": [
    "forest_model_all = RandomForestRegressor(random_state = 1)\n",
    "forest_model_all.fit(X, y)\n",
    "forest_predict_all = forest_model_all.predict(X)\n",
    "forest_mae_all = mean_absolute_error(y, forest_predict_all)"
   ]
  },
  {
   "cell_type": "code",
   "execution_count": 60,
   "metadata": {},
   "outputs": [
    {
     "output_type": "stream",
     "name": "stdout",
     "text": [
      "51475.11845672607\n62620.446878370654\n49694.58277767755\n50011.58514855404\n18382.91454082681\n"
     ]
    }
   ],
   "source": [
    "print(get_mae(5, train_X, val_X, train_y, val_y)) # \n",
    "print(my_mae)#  \n",
    "print(val_mae) # \n",
    "print(forest_mae)# \n",
    "print(forest_mae_all)# \n"
   ]
  }
 ]
}
